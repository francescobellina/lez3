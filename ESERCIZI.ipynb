{
  "cells": [
    {
      "cell_type": "markdown",
      "metadata": {
        "id": "WCRr4FY--WcZ"
      },
      "source": [
        "#Esercizio 1"
      ]
    },
    {
      "cell_type": "code",
      "execution_count": 46,
      "metadata": {
        "id": "ZVqCJYeN-Wcc",
        "outputId": "11e67f5e-fe31-43be-e5a2-98d6755a3107",
        "colab": {
          "base_uri": "https://localhost:8080/",
          "height": 465
        }
      },
      "outputs": [
        {
          "output_type": "stream",
          "name": "stdout",
          "text": [
            "length of the bin_edges container: 10\n"
          ]
        },
        {
          "output_type": "display_data",
          "data": {
            "text/plain": [
              "<Figure size 640x480 with 1 Axes>"
            ],
            "image/png": "[encoded data removed]"
          },
          "metadata": {}
        },
        {
          "output_type": "display_data",
          "data": {
            "text/plain": [
              "<Figure size 640x480 with 0 Axes>"
            ]
          },
          "metadata": {}
        }
      ],
      "source": [
        "#Create a one-dimensional histogram filled with 5 values and save the histogram image to a png file\n",
        "\n",
        "import numpy as np\n",
        "import matplotlib.pyplot as plt\n",
        "\n",
        "sample=[0.1,0.8,1.1,1.5,2.3] #inputs\n",
        "N_bins=10\n",
        "\n",
        "bin_edges = np.linspace (0, 5, N_bins)  #con linspace ho il numero di bin equispaziati tra xmin  e xmax fissati\n",
        "print ('length of the bin_edges container:', len (bin_edges))  #lunbghezza del bin\n",
        "fig, ax = plt.subplots (nrows = 1, ncols = 1)\n",
        "ax.hist (sample,\n",
        "         bins = bin_edges,\n",
        "         color = 'orange',\n",
        "        )\n",
        "plt.show()\n",
        "plt.savefig('my_figure.png')"
      ]
    },
    {
      "cell_type": "markdown",
      "source": [
        "#esercizio 2:\n"
      ],
      "metadata": {
        "id": "wu6CYcMZBZhK"
      }
    },
    {
      "cell_type": "code",
      "source": [
        "#Read the text file eventi_unif.txt:\n",
        "\n",
        "    #Print the first 10 positive elements to the screen.\n",
        "\n",
        "    #Count the number of events contained in the file.\n",
        "\n",
        "    #Determine the minimum and maximum values among the numbers saved in the file.\n",
        "import numpy as np\n",
        "import matplotlib.pyplot as plt\n",
        "\n",
        "#def main():\n",
        "\n",
        "data = np.genfromtxt('eventi_unif.txt')\n",
        "#with open ('eventi_unif.txt') as input_file:\n",
        "    #sample = [float (x) for x in input_file.readlines()]\n",
        "print('Data array shape: ',data.shape)         #la lunghezza dell'oggetto data\n",
        "print(data)\n",
        "\n",
        "\n",
        "\n",
        "#if __name__ == \"__name__\":\n",
        "   #main()"
      ],
      "metadata": {
        "id": "O6t7W6ewBbb_",
        "outputId": "88f1d22b-4f49-45bb-cddc-1da8470db56f",
        "colab": {
          "base_uri": "https://localhost:8080/"
        }
      },
      "execution_count": 41,
      "outputs": [
        {
          "output_type": "stream",
          "name": "stdout",
          "text": [
            "Data array shape:  (3,)\n",
            "[nan nan nan]\n"
          ]
        }
      ]
    },
    {
      "cell_type": "code",
      "source": [
        "f = open(\"eventi_unif.txt\", \"r\")\n",
        "print(f.read())"
      ],
      "metadata": {
        "id": "ptamZoIsLKhu",
        "outputId": "4f5bd31a-bf3f-42c0-fc70-570255bb83cd",
        "colab": {
          "base_uri": "https://localhost:8080/"
        }
      },
      "execution_count": 40,
      "outputs": [
        {
          "output_type": "stream",
          "name": "stdout",
          "text": [
            "Geeks1 f2or G8e8e3k2s0\n"
          ]
        }
      ]
    },
    {
      "cell_type": "code",
      "source": [
        "f = open(\"D:\\\\dowmloads\\eventi_unif.txt\")\n",
        "print(f.read())"
      ],
      "metadata": {
        "id": "6BTvp4cPMe30",
        "outputId": "43de7e5f-a38d-4736-a719-9f2bb2c37b25",
        "colab": {
          "base_uri": "https://localhost:8080/",
          "height": 195
        }
      },
      "execution_count": 45,
      "outputs": [
        {
          "output_type": "error",
          "ename": "FileNotFoundError",
          "evalue": "ignored",
          "traceback": [
            "\u001b[0;31m---------------------------------------------------------------------------\u001b[0m",
            "\u001b[0;31mFileNotFoundError\u001b[0m                         Traceback (most recent call last)",
            "\u001b[0;32m<ipython-input-45-6235e9b92f68>\u001b[0m in \u001b[0;36m<cell line: 1>\u001b[0;34m()\u001b[0m\n\u001b[0;32m----> 1\u001b[0;31m \u001b[0mf\u001b[0m \u001b[0;34m=\u001b[0m \u001b[0mopen\u001b[0m\u001b[0;34m(\u001b[0m\u001b[0;34m\"D:\\\\dowmloads\\eventi_unif.txt\"\u001b[0m\u001b[0;34m)\u001b[0m\u001b[0;34m\u001b[0m\u001b[0;34m\u001b[0m\u001b[0m\n\u001b[0m\u001b[1;32m      2\u001b[0m \u001b[0mprint\u001b[0m\u001b[0;34m(\u001b[0m\u001b[0mf\u001b[0m\u001b[0;34m.\u001b[0m\u001b[0mread\u001b[0m\u001b[0;34m(\u001b[0m\u001b[0;34m)\u001b[0m\u001b[0;34m)\u001b[0m\u001b[0;34m\u001b[0m\u001b[0;34m\u001b[0m\u001b[0m\n",
            "\u001b[0;31mFileNotFoundError\u001b[0m: [Errno 2] No such file or directory: 'D:\\\\dowmloads\\\\eventi_unif.txt'"
          ]
        }
      ]
    },
    {
      "cell_type": "code",
      "source": [],
      "metadata": {
        "id": "4QuSARxGNBFm"
      },
      "execution_count": null,
      "outputs": []
    },
    {
      "cell_type": "markdown",
      "source": [
        "#Esercizio 3:\n"
      ],
      "metadata": {
        "id": "9WkbHJQWNBfd"
      }
    },
    {
      "cell_type": "code",
      "source": [
        "#Read the text file eventi_gauss.txt:\n",
        "\n",
        "    #Fill a histogram with the first N numbers contained in the file, where N is a command-line parameter during program execution.\n",
        "\n",
        "    #Choose the histogram’s definition range and its bin number based on the numbers to be represented.\n"
      ],
      "metadata": {
        "id": "-4liV7EfND45"
      },
      "execution_count": null,
      "outputs": []
    }
  ],
  "metadata": {
    "kernelspec": {
      "display_name": "Python 3 (ipykernel)",
      "language": "python",
      "name": "python3"
    },
    "language_info": {
      "codemirror_mode": {
        "name": "ipython",
        "version": 3
      },
      "file_extension": ".py",
      "mimetype": "text/x-python",
      "name": "python",
      "nbconvert_exporter": "python",
      "pygments_lexer": "ipython3",
      "version": "3.8.10"
    },
    "colab": {
      "provenance": []
    }
  },
  "nbformat": 4,
  "nbformat_minor": 0
}
