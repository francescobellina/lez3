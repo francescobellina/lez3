{
  "cells": [
    {
      "cell_type": "markdown",
      "metadata": {
        "id": "orge4tjfxRz0"
      },
      "source": [
        "#SCRIVERE DATI from txt\n",
        "##USANDO funzioni standard di python"
      ]
    },
    {
      "cell_type": "code",
      "source": [
        "with open ('sample.txt', 'w') as output_file :\n",
        "    for item in sample:   #sample potrebbe essere una lista/vettore di cui leggo ciascun valore\n",
        "        # write each item on a new line\n",
        "        output_file.write (str (item) + '\\n')"
      ],
      "metadata": {
        "id": "tWUyEny_7YeX"
      },
      "execution_count": null,
      "outputs": []
    },
    {
      "cell_type": "markdown",
      "source": [
        "#LEGGERE DATI\n",
        "#USANDO funzioni standard di python"
      ],
      "metadata": {
        "id": "a_iM8g0N7hpp"
      }
    },
    {
      "cell_type": "code",
      "source": [
        "with open ('sample.txt') as input_file:\n",
        "    sample = [float (x) for x in input_file.readlines()]\n",
        "\n",
        "#The sample variable is an existing collection of numbers\n",
        "#he printout adds a carriage return symbol \\n, so to ensure that the numbers are saved in different lines\n"
      ],
      "metadata": {
        "id": "P_v7ePJN7pit"
      },
      "execution_count": null,
      "outputs": []
    },
    {
      "cell_type": "markdown",
      "source": [
        "#E' tutto piu semplice usando i comandi da NUMPY per leggere e scrivere dati:\n"
      ],
      "metadata": {
        "id": "QuZQvm7I8JW0"
      }
    },
    {
      "cell_type": "code",
      "source": [
        "import numpy as np\n",
        "\n",
        "data = np.genfromtxt('./fake_data.txt',   #uso la funzione np.genfromtxt. siccome il file si trova nella stessa directory mi basta ./ altrimenti aggiungere ...\n",
        "                     delimiter=\"|\",  #per escludere la linea nel file di testo, mi servono solo i dati grezzi\n",
        "                     skip_header=2,  #voglio ignorare le righe di commento, aprire il txt e vedere quante sono, poi escludi quelle righe\n",
        "                     names=True)  #i nomi delle colonne dei dati invece li voglio\n",
        "\n",
        "print('Column names and dtypes: ', data.dtype)\n",
        "print('Data array shape: ',data.shape)"
      ],
      "metadata": {
        "colab": {
          "base_uri": "https://localhost:8080/",
          "height": 392
        },
        "id": "i5j200BI8az-",
        "outputId": "a7b3b8f0-57c3-4d5d-888a-cea37207d703"
      },
      "execution_count": 11,
      "outputs": [
        {
          "output_type": "error",
          "ename": "FileNotFoundError",
          "evalue": "ignored",
          "traceback": [
            "\u001b[0;31m---------------------------------------------------------------------------\u001b[0m",
            "\u001b[0;31mFileNotFoundError\u001b[0m                         Traceback (most recent call last)",
            "\u001b[0;32m<ipython-input-11-55c8f911a163>\u001b[0m in \u001b[0;36m<cell line: 1>\u001b[0;34m()\u001b[0m\n\u001b[0;32m----> 1\u001b[0;31m data = np.genfromtxt('./fake_data.txt',   #uso la funzione np.genfromtxt. siccome il file si trova nella stessa directory mi basta ./ altrimenti aggiungere ...\n\u001b[0m\u001b[1;32m      2\u001b[0m                      \u001b[0mdelimiter\u001b[0m\u001b[0;34m=\u001b[0m\u001b[0;34m\"|\"\u001b[0m\u001b[0;34m,\u001b[0m  \u001b[0;31m#per escludere la linea nel file di testo, mi servono solo i dati grezzi\u001b[0m\u001b[0;34m\u001b[0m\u001b[0;34m\u001b[0m\u001b[0m\n\u001b[1;32m      3\u001b[0m                      \u001b[0mskip_header\u001b[0m\u001b[0;34m=\u001b[0m\u001b[0;36m2\u001b[0m\u001b[0;34m,\u001b[0m  \u001b[0;31m#voglio ignorare le righe di commento, aprire il txt e vedere quante sono, poi escludi quelle righe\u001b[0m\u001b[0;34m\u001b[0m\u001b[0;34m\u001b[0m\u001b[0m\n\u001b[1;32m      4\u001b[0m                      names=True)  #i nomi delle colonne dei dati invece li voglio\n\u001b[1;32m      5\u001b[0m \u001b[0;34m\u001b[0m\u001b[0m\n",
            "\u001b[0;32m/usr/local/lib/python3.10/dist-packages/numpy/lib/npyio.py\u001b[0m in \u001b[0;36mgenfromtxt\u001b[0;34m(fname, dtype, comments, delimiter, skip_header, skip_footer, converters, missing_values, filling_values, usecols, names, excludelist, deletechars, replace_space, autostrip, case_sensitive, defaultfmt, unpack, usemask, loose, invalid_raise, max_rows, encoding, ndmin, like)\u001b[0m\n\u001b[1;32m   1957\u001b[0m         \u001b[0mfname\u001b[0m \u001b[0;34m=\u001b[0m \u001b[0mos_fspath\u001b[0m\u001b[0;34m(\u001b[0m\u001b[0mfname\u001b[0m\u001b[0;34m)\u001b[0m\u001b[0;34m\u001b[0m\u001b[0;34m\u001b[0m\u001b[0m\n\u001b[1;32m   1958\u001b[0m     \u001b[0;32mif\u001b[0m \u001b[0misinstance\u001b[0m\u001b[0;34m(\u001b[0m\u001b[0mfname\u001b[0m\u001b[0;34m,\u001b[0m \u001b[0mstr\u001b[0m\u001b[0;34m)\u001b[0m\u001b[0;34m:\u001b[0m\u001b[0;34m\u001b[0m\u001b[0;34m\u001b[0m\u001b[0m\n\u001b[0;32m-> 1959\u001b[0;31m         \u001b[0mfid\u001b[0m \u001b[0;34m=\u001b[0m \u001b[0mnp\u001b[0m\u001b[0;34m.\u001b[0m\u001b[0mlib\u001b[0m\u001b[0;34m.\u001b[0m\u001b[0m_datasource\u001b[0m\u001b[0;34m.\u001b[0m\u001b[0mopen\u001b[0m\u001b[0;34m(\u001b[0m\u001b[0mfname\u001b[0m\u001b[0;34m,\u001b[0m \u001b[0;34m'rt'\u001b[0m\u001b[0;34m,\u001b[0m \u001b[0mencoding\u001b[0m\u001b[0;34m=\u001b[0m\u001b[0mencoding\u001b[0m\u001b[0;34m)\u001b[0m\u001b[0;34m\u001b[0m\u001b[0;34m\u001b[0m\u001b[0m\n\u001b[0m\u001b[1;32m   1960\u001b[0m         \u001b[0mfid_ctx\u001b[0m \u001b[0;34m=\u001b[0m \u001b[0mcontextlib\u001b[0m\u001b[0;34m.\u001b[0m\u001b[0mclosing\u001b[0m\u001b[0;34m(\u001b[0m\u001b[0mfid\u001b[0m\u001b[0;34m)\u001b[0m\u001b[0;34m\u001b[0m\u001b[0;34m\u001b[0m\u001b[0m\n\u001b[1;32m   1961\u001b[0m     \u001b[0;32melse\u001b[0m\u001b[0;34m:\u001b[0m\u001b[0;34m\u001b[0m\u001b[0;34m\u001b[0m\u001b[0m\n",
            "\u001b[0;32m/usr/local/lib/python3.10/dist-packages/numpy/lib/_datasource.py\u001b[0m in \u001b[0;36mopen\u001b[0;34m(path, mode, destpath, encoding, newline)\u001b[0m\n\u001b[1;32m    191\u001b[0m \u001b[0;34m\u001b[0m\u001b[0m\n\u001b[1;32m    192\u001b[0m     \u001b[0mds\u001b[0m \u001b[0;34m=\u001b[0m \u001b[0mDataSource\u001b[0m\u001b[0;34m(\u001b[0m\u001b[0mdestpath\u001b[0m\u001b[0;34m)\u001b[0m\u001b[0;34m\u001b[0m\u001b[0;34m\u001b[0m\u001b[0m\n\u001b[0;32m--> 193\u001b[0;31m     \u001b[0;32mreturn\u001b[0m \u001b[0mds\u001b[0m\u001b[0;34m.\u001b[0m\u001b[0mopen\u001b[0m\u001b[0;34m(\u001b[0m\u001b[0mpath\u001b[0m\u001b[0;34m,\u001b[0m \u001b[0mmode\u001b[0m\u001b[0;34m,\u001b[0m \u001b[0mencoding\u001b[0m\u001b[0;34m=\u001b[0m\u001b[0mencoding\u001b[0m\u001b[0;34m,\u001b[0m \u001b[0mnewline\u001b[0m\u001b[0;34m=\u001b[0m\u001b[0mnewline\u001b[0m\u001b[0;34m)\u001b[0m\u001b[0;34m\u001b[0m\u001b[0;34m\u001b[0m\u001b[0m\n\u001b[0m\u001b[1;32m    194\u001b[0m \u001b[0;34m\u001b[0m\u001b[0m\n\u001b[1;32m    195\u001b[0m \u001b[0;34m\u001b[0m\u001b[0m\n",
            "\u001b[0;32m/usr/local/lib/python3.10/dist-packages/numpy/lib/_datasource.py\u001b[0m in \u001b[0;36mopen\u001b[0;34m(self, path, mode, encoding, newline)\u001b[0m\n\u001b[1;32m    531\u001b[0m                                       encoding=encoding, newline=newline)\n\u001b[1;32m    532\u001b[0m         \u001b[0;32melse\u001b[0m\u001b[0;34m:\u001b[0m\u001b[0;34m\u001b[0m\u001b[0;34m\u001b[0m\u001b[0m\n\u001b[0;32m--> 533\u001b[0;31m             \u001b[0;32mraise\u001b[0m \u001b[0mFileNotFoundError\u001b[0m\u001b[0;34m(\u001b[0m\u001b[0;34mf\"{path} not found.\"\u001b[0m\u001b[0;34m)\u001b[0m\u001b[0;34m\u001b[0m\u001b[0;34m\u001b[0m\u001b[0m\n\u001b[0m\u001b[1;32m    534\u001b[0m \u001b[0;34m\u001b[0m\u001b[0m\n\u001b[1;32m    535\u001b[0m \u001b[0;34m\u001b[0m\u001b[0m\n",
            "\u001b[0;31mFileNotFoundError\u001b[0m: ./fake_data.txt not found."
          ]
        }
      ]
    },
    {
      "cell_type": "markdown",
      "source": [
        "#ISTOGRAMMI:"
      ],
      "metadata": {
        "id": "FWP9Tvtz8a78"
      }
    },
    {
      "cell_type": "code",
      "execution_count": null,
      "metadata": {
        "id": "NlFaVeVixRz2"
      },
      "outputs": [],
      "source": [
        "fig, ax = plt.subplots (nrows = 1, ncols = 1)\n",
        "ax.hist (sample,\n",
        "         color = 'orange',\n",
        "        )\n"
      ]
    },
    {
      "cell_type": "code",
      "source": [
        "bin_edges = np.linspace (xMin, xMax, N_bins)  #con linspace ho il numero di bin equispaziati tra xmin  e xmax fissati\n",
        "print ('length of the bin_edges container:', len (bin_edges))  #lunbghezza del bin\n",
        "fig, ax = plt.subplots (nrows = 1, ncols = 1)\n",
        "ax.hist (sample,\n",
        "         bins = bin_edges,\n",
        "         color = 'orange',\n",
        "        )"
      ],
      "metadata": {
        "id": "oTCX1qRCxYLJ"
      },
      "execution_count": null,
      "outputs": []
    },
    {
      "cell_type": "markdown",
      "source": [
        "#IL NUMERO DEI BIN\n",
        "##qual è il numero di bin ideale, giusto, da utilizzare? REGOLA DI STURGE"
      ],
      "metadata": {
        "id": "Ix96RXzKxo_K"
      }
    },
    {
      "cell_type": "code",
      "source": [
        "import numpy as np\n",
        "def sturges (N_events) :\n",
        "     return int( np.ceil( 1 + 3.322 * np.log(N_events) ) )##questa è la formula della regola di sturge.\n",
        "     #il log sta per abbassare il numero dei bin all'aumentare di n (?), comuqne ne abbassa il grado.\n",
        "#-----\n",
        "\n",
        "N_bins = sturges (len (sample))\n",
        "bin_edges = np.linspace (xMin, xMax, N_bins)"
      ],
      "metadata": {
        "id": "w82N29p4xpVe"
      },
      "execution_count": null,
      "outputs": []
    },
    {
      "cell_type": "markdown",
      "source": [
        "##oppure uso la scala logaritmica sugli assi:"
      ],
      "metadata": {
        "id": "Rw_6Obphyq7T"
      }
    },
    {
      "cell_type": "code",
      "source": [
        "#When the values in different bins change considerably,\n",
        "#it can be convenient to visualize histograms on a logarithmic scale (along the horizontal or vertical axis), to improve the readability of the result\n",
        "\n",
        "ax.set_yscale ('log')"
      ],
      "metadata": {
        "id": "cQSLeRR7yuZR"
      },
      "execution_count": null,
      "outputs": []
    },
    {
      "cell_type": "markdown",
      "source": [
        "#Istogramma: serve anche per ricavare info statistiche: CALCOLO DEI MOMENTI DELLA DISTR\n",
        "##i momenti li calcolo inziando a sostituire l'integrale con una sommatoria"
      ],
      "metadata": {
        "id": "2ddxarmnzKek"
      }
    },
    {
      "cell_type": "code",
      "source": [
        "\n",
        "\n",
        "return sum (sample) / len (sample)   ##cosi ho la sommatoria (cioe Sommatoria di xi/N)\n",
        "\n",
        "#the python function sum calculates the sum of the sample elements\n",
        "#the python function len calculates its number of elements\n",
        "#----------------\n",
        "\n",
        "#once the average is known, its drawing may be added on top of a histogram:\n",
        "ax.hist (sample,\n",
        "         bins = bin_edges,\n",
        "         color = 'orange',\n",
        "        )\n",
        "vertical_limits = ax.get_ylim () #asse verticale per indicare graficare la media, get_ylim() : RESTITUISCE ymin e ymax (il valore min e max delle y, poi matplot li unisce con una linea)\n",
        "ax.plot ([sample_mean, sample_mean], vertical_limits, color = 'blue')"
      ],
      "metadata": {
        "colab": {
          "base_uri": "https://localhost:8080/",
          "height": 247
        },
        "id": "QPbb145XzOtr",
        "outputId": "4b8bfb6b-2f18-4e94-d6bd-b8332ab0ddb5"
      },
      "execution_count": 3,
      "outputs": [
        {
          "output_type": "error",
          "ename": "NameError",
          "evalue": "ignored",
          "traceback": [
            "\u001b[0;31m---------------------------------------------------------------------------\u001b[0m",
            "\u001b[0;31mNameError\u001b[0m                                 Traceback (most recent call last)",
            "\u001b[0;32m<ipython-input-3-465750a86da7>\u001b[0m in \u001b[0;36m<cell line: 11>\u001b[0;34m()\u001b[0m\n\u001b[1;32m      9\u001b[0m \u001b[0;34m\u001b[0m\u001b[0m\n\u001b[1;32m     10\u001b[0m \u001b[0;31m#once the average is known, its drawing may be added on top of a histogram:\u001b[0m\u001b[0;34m\u001b[0m\u001b[0;34m\u001b[0m\u001b[0m\n\u001b[0;32m---> 11\u001b[0;31m ax.hist (sample,\n\u001b[0m\u001b[1;32m     12\u001b[0m          \u001b[0mbins\u001b[0m \u001b[0;34m=\u001b[0m \u001b[0mbin_edges\u001b[0m\u001b[0;34m,\u001b[0m\u001b[0;34m\u001b[0m\u001b[0;34m\u001b[0m\u001b[0m\n\u001b[1;32m     13\u001b[0m          \u001b[0mcolor\u001b[0m \u001b[0;34m=\u001b[0m \u001b[0;34m'orange'\u001b[0m\u001b[0;34m,\u001b[0m\u001b[0;34m\u001b[0m\u001b[0;34m\u001b[0m\u001b[0m\n",
            "\u001b[0;31mNameError\u001b[0m: name 'ax' is not defined"
          ]
        }
      ]
    },
    {
      "cell_type": "markdown",
      "source": [
        "#DATA MODELS: **LIBRERIA SCIPY**\n",
        "## https://docs.scipy.org/doc/scipy/reference/stats.html#module-scipy.stats"
      ],
      "metadata": {
        "id": "JUoFHDnM04JG"
      }
    },
    {
      "cell_type": "code",
      "source": [
        "## in partocolare scipy.stat\n",
        "\n",
        "#All continuous distributions take loc and scale as keyword parameters to adjust the location and scale of the distribution\n",
        "\n",
        "# Using a continuous probability density function:\n",
        "\n",
        "\n",
        "from scipy.stats import norm  #NORM è la funzione gaussiana di base\n",
        "\n",
        "#per la media e varianza uso il metodo pdf di norm: gli associo i seguenti parametri\n",
        "mean = 1.\n",
        "sigma = 0.5 #SE NON LE SPECIFICO NORM MI RESTITUISCE PDF STANDARD (mean=0 e sigma=1)\n",
        "x = mean + sigma / 2. #il punto dove calcolo\n",
        "print (norm.pdf (x, mean, sigma)) #stampa il valore che assuma la pdf gaussiana in corrisp di x, questa gaussiana avra media =1  e sigma = 0.5\n"
      ],
      "metadata": {
        "colab": {
          "base_uri": "https://localhost:8080/",
          "height": 142
        },
        "id": "mxh63Xm807zJ",
        "outputId": "80b83ab3-0355-46ea-cd74-f1c995e56629"
      },
      "execution_count": 10,
      "outputs": [
        {
          "output_type": "error",
          "ename": "SyntaxError",
          "evalue": "ignored",
          "traceback": [
            "\u001b[0;36m  File \u001b[0;32m\"<ipython-input-10-cd15eed890ec>\"\u001b[0;36m, line \u001b[0;32m15\u001b[0m\n\u001b[0;31m    print (norm_fix.(x,mean,sigma))\u001b[0m\n\u001b[0m                    ^\u001b[0m\n\u001b[0;31mSyntaxError\u001b[0m\u001b[0;31m:\u001b[0m invalid syntax\n"
          ]
        }
      ]
    },
    {
      "cell_type": "code",
      "source": [
        "#MODO ALTERNATIVO:\n",
        "from scipy.stats import norm\n",
        "mean = 1.\n",
        "sigma = 0.5\n",
        "x=mean+ sigma/2.\n",
        "\n",
        "norm_fix = norm (mean, sigma) #definiti mean e sigma uso direttamente la funzione norm\n",
        "print (norm_fix.pdf (x))"
      ],
      "metadata": {
        "colab": {
          "base_uri": "https://localhost:8080/"
        },
        "id": "l3lTjtyw2jCb",
        "outputId": "e178e346-947c-4175-9b94-0e516ef44008"
      },
      "execution_count": 7,
      "outputs": [
        {
          "output_type": "stream",
          "name": "stdout",
          "text": [
            "0.704130653528599\n"
          ]
        }
      ]
    },
    {
      "cell_type": "markdown",
      "source": [
        "##The cumulative density function"
      ],
      "metadata": {
        "id": "8yesm2O53Rke"
      }
    },
    {
      "cell_type": "code",
      "source": [
        "#.ddf\n",
        "\n",
        "print ('the value of the Gaussian distribution cumulative at its mean is: ' +\n",
        "       str (norm.cdf (mean, mean, sigma))\n",
        "       )"
      ],
      "metadata": {
        "id": "gZrWao9m3dbV"
      },
      "execution_count": null,
      "outputs": []
    },
    {
      "cell_type": "markdown",
      "source": [
        "##Calcolo dei momenti della distr"
      ],
      "metadata": {
        "id": "FVImCdYa3kO7"
      }
    },
    {
      "cell_type": "code",
      "source": [
        "ave, var, skew, kurt = norm_fix.stats (moments='mvsk')\n",
        "print (ave, var, skew, kurt) ##stampo la lista dei momenti"
      ],
      "metadata": {
        "id": "YStOLRly3nmg"
      },
      "execution_count": null,
      "outputs": []
    },
    {
      "cell_type": "markdown",
      "source": [
        "#Integrazione numerica"
      ],
      "metadata": {
        "id": "glf1vP4c3uqP"
      }
    },
    {
      "cell_type": "code",
      "source": [
        "\n",
        "#quad\n",
        "\n",
        "from scipy.integrate import quad\n",
        "# definition of a polinomial function\n",
        "def polin(x): return x**2 + x + 1\n",
        "\n",
        "area = quad (polin, 0., 4.)\n",
        "print ('area = ', area[0])\n",
        "print ('absolute error estimate = ', area[1])"
      ],
      "metadata": {
        "id": "wmw1zK1p3zF2"
      },
      "execution_count": null,
      "outputs": []
    },
    {
      "cell_type": "markdown",
      "source": [
        "#integrali con estremi infiniti"
      ],
      "metadata": {
        "id": "5gp1wzDI33-R"
      }
    },
    {
      "cell_type": "code",
      "source": [
        "def expon (x): return exp (-1 * x)\n",
        "\n",
        "area = quad (expon, 0, np.inf)"
      ],
      "metadata": {
        "id": "VR2_tIln34iF"
      },
      "execution_count": null,
      "outputs": []
    }
  ],
  "metadata": {
    "kernelspec": {
      "display_name": "Python 3 (ipykernel)",
      "language": "python",
      "name": "python3"
    },
    "language_info": {
      "codemirror_mode": {
        "name": "ipython",
        "version": 3
      },
      "file_extension": ".py",
      "mimetype": "text/x-python",
      "name": "python",
      "nbconvert_exporter": "python",
      "pygments_lexer": "ipython3",
      "version": "3.8.10"
    },
    "colab": {
      "provenance": []
    }
  },
  "nbformat": 4,
  "nbformat_minor": 0
}