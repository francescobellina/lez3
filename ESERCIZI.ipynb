{
  "cells": [
    {
      "cell_type": "markdown",
      "metadata": {
        "id": "WCRr4FY--WcZ"
      },
      "source": [
        "#Esercizio 1"
      ]
    },
    {
      "cell_type": "code",
      "execution_count": null,
      "metadata": {
        "id": "ZVqCJYeN-Wcc",
        "outputId": "11e67f5e-fe31-43be-e5a2-98d6755a3107",
        "colab": {
          "base_uri": "https://localhost:8080/",
          "height": 465
        }
      },
      "outputs": [
        {
          "output_type": "stream",
          "name": "stdout",
          "text": [
            "length of the bin_edges container: 10\n"
          ]
        },
        {
          "output_type": "display_data",
          "data": {
            "text/plain": [
              "<Figure size 640x480 with 1 Axes>"
            ],
            "image/png": "[encoded data removed]"
          },
          "metadata": {}
        },
        {
          "output_type": "display_data",
          "data": {
            "text/plain": [
              "<Figure size 640x480 with 0 Axes>"
            ]
          },
          "metadata": {}
        }
      ],
      "source": [
        "#Create a one-dimensional histogram filled with 5 values and save the histogram image to a png file\n",
        "\n",
        "import numpy as np\n",
        "import matplotlib.pyplot as plt\n",
        "\n",
        "sample=[0.1,0.8,1.1,1.5,2.3] #inputs\n",
        "N_bins=10\n",
        "\n",
        "bin_edges = np.linspace (0, 5, N_bins)  #con linspace ho il numero di bin equispaziati tra xmin  e xmax fissati\n",
        "print ('length of the bin_edges container:', len (bin_edges))  #lunbghezza del bin\n",
        "fig, ax = plt.subplots (nrows = 1, ncols = 1)\n",
        "ax.hist (sample,\n",
        "         bins = bin_edges,\n",
        "         color = 'orange',\n",
        "        )\n",
        "plt.show()\n",
        "plt.savefig('my_figure.png')"
      ]
    },
    {
      "cell_type": "markdown",
      "source": [
        "#esercizio 2:\n"
      ],
      "metadata": {
        "id": "wu6CYcMZBZhK"
      }
    },
    {
      "cell_type": "code",
      "source": [
        "#es2:\n",
        "      #Print the first 10 positive elements to the screen.\n",
        "     #Count the number of events contained in the file.\n",
        "    #Determine the minimum and maximum values among the numbers saved in the file.\n",
        "import numpy as np\n",
        "import matplotlib.pyplot as plt\n",
        "\n",
        "import os\n",
        "os.listdir()\n",
        "\n",
        "#def main():\n",
        "\n",
        "data = np.loadtxt('sample_data/eventi_unif.txt')\n",
        "#data=[1,2,3,4,5,6,7,8,11,-3,1,1,1,1,1,1,1,9]\n",
        "#with open ('eventi_unif.txt') as input_file:\n",
        "    #sample = [float (x) for x in input_file.readlines()]\n",
        "\n",
        "#print('Data array shape: ',data.shape)         #la lunghezza dell'oggetto data\n",
        "print('numero di eventi: ' , len(data))\n",
        "#datapos=np.where(data > 0)  [funzione where di np]\n",
        "#print(datapos[:10])\n",
        "\n",
        "\n",
        "#STAMPO I PRIMI 10 VALORI POSITIVI:\n",
        "\n",
        "save=[]  #array di supporto per salvare e stampare i valori positivi\n",
        "\n",
        "for i in range(0,len(data)):\n",
        "  if data[i]>0:\n",
        "    save.append(data[i])\n",
        "  else:\n",
        "    continue\n",
        "for i in range(0,10): #voglio solo i primi 10 valori positivi\n",
        " if save[i]>0 : print(save[i])\n",
        "\n",
        "\n",
        "\n",
        "print(\"il massimo valore dei dati è : \" , np.max(data))\n",
        "print(\"il minimo valore dei dati è : \" , np.min(data))\n",
        "#if __name__ == \"__name__\":\n",
        "   #main()"
      ],
      "metadata": {
        "id": "O6t7W6ewBbb_",
        "outputId": "31e9a5ab-11f1-4e9a-a1fa-02ede22be33a",
        "colab": {
          "base_uri": "https://localhost:8080/"
        }
      },
      "execution_count": 10,
      "outputs": [
        {
          "output_type": "stream",
          "name": "stdout",
          "text": [
            "numero di eventi:  10000\n",
            "1.74343\n",
            "0.881333\n",
            "2.94428\n",
            "2.73867\n",
            "3.56551\n",
            "0.547841\n",
            "3.55342\n",
            "6.35506\n",
            "2.54804\n",
            "4.95112\n",
            "il massimo valore dei dati è :  6.99967\n",
            "il minimo valore dei dati è :  -3.99968\n"
          ]
        }
      ]
    },
    {
      "cell_type": "code",
      "source": [],
      "metadata": {
        "id": "4QuSARxGNBFm"
      },
      "execution_count": null,
      "outputs": []
    },
    {
      "cell_type": "markdown",
      "source": [
        "#Esercizio 3:\n"
      ],
      "metadata": {
        "id": "9WkbHJQWNBfd"
      }
    },
    {
      "cell_type": "code",
      "source": [
        "#Read the text file eventi_gauss.txt:\n",
        "\n",
        "    #Fill a histogram with the first N numbers contained in the file, where N is a command-line parameter during program execution.\n",
        "\n",
        "    #Choose the histogram’s definition range and its bin number based on the numbers to be represented.\n",
        "import numpy as np\n",
        "import matplotlib.pyplot as plt\n",
        "\n",
        "import os    #comando per capire come scrivere il path per trovare il file txt\n",
        "os.listdir()\n",
        "\n",
        "#sample = np.genfromtxt(\".txt\")\n",
        "sample = np.genfromtxt(\"sample_data/eventi_gauss.txt\") #non mi\n",
        "\n",
        "#input: è il file di testo da leggere dato per dato\n",
        "\n",
        "N_bins=100   #ANDREBBE USATA LA REGOLA DI STURGES E I COMANDI SUI PARAMETRI TRAMITE SYS (guarda soluzione)\n",
        "x_min=-3\n",
        "x_max=5\n",
        "\n",
        "bin_edges = np.linspace (x_min, x_max, N_bins)\n",
        "\n",
        "fig, ax = plt.subplots (nrows = 1, ncols = 1)\n",
        "ax.hist (sample,\n",
        "         bins = bin_edges,\n",
        "         color = 'orange',\n",
        "        )\n",
        "plt.show()\n"
      ],
      "metadata": {
        "id": "-4liV7EfND45",
        "colab": {
          "base_uri": "https://localhost:8080/",
          "height": 430
        },
        "outputId": "eb7ce6b5-46d7-4ae4-b33d-fb5ffb0d6e02"
      },
      "execution_count": 13,
      "outputs": [
        {
          "output_type": "display_data",
          "data": {
            "text/plain": [
              "<Figure size 640x480 with 1 Axes>"
            ],
            "image/png": "[encoded data removed]"
          },
          "metadata": {}
        }
      ]
    },
    {
      "cell_type": "markdown",
      "source": [
        "#SOLUZIONE esercizio 3:\n"
      ],
      "metadata": {
        "id": "KTSG1wlcI5d-"
      }
    },
    {
      "cell_type": "code",
      "source": [
        "#!/usr/bin/python\n",
        "\n",
        "import sys\n",
        "import matplotlib.pyplot as plt\n",
        "import numpy as np\n",
        "from math import ceil, floor\n",
        "\n",
        "\n",
        "def sturges (N_events) :\n",
        "    return ceil (1 + 3.322 * np.log (N_events))\n",
        "\n",
        "\n",
        "# ---- ---- ---- ---- ---- ---- ---- ---- ---- ---- ---- ---- ----\n",
        "\n",
        "\n",
        "def main () :\n",
        "    '''\n",
        "    Funzione che implementa il programma principale\n",
        "    '''\n",
        "\n",
        "    if (len (sys.argv) < 3) :\n",
        "        print ('usage:', sys.argv[0], 'eventi_gauss.txt')\n",
        "        sys.exit ()\n",
        "\n",
        "    #N_max = int (sys.argv[2])\n",
        "    N_max=100\n",
        "    # read the file\n",
        "    with open(sys.argv[1]) as f: #sys.arg[1] è l'array-file txt (puoi usare anche load.txt..)\n",
        "        sample = [float (x) for x in f.readlines()]\n",
        "\n",
        "    xMin = floor (min (sample[:N_max]))\n",
        "    xMax = ceil (max (sample[:N_max]))\n",
        "    N_bins = sturges (N_max)\n",
        "\n",
        "    bin_edges = np.linspace (xMin, xMax, N_bins)\n",
        "    fig, ax = plt.subplots (nrows = 1, ncols = 1)\n",
        "    ax.hist (sample[:N_max],\n",
        "             bins = bin_edges,\n",
        "             color = 'orange',\n",
        "            )\n",
        "    ax.set_title ('Histogram example', size=14)\n",
        "    ax.set_xlabel ('variable')\n",
        "    ax.set_ylabel ('event counts per bin')\n",
        "\n",
        "    #plt.savefig ('ex_3.3.png')\n",
        "\n",
        "\n",
        "# ---- ---- ---- ---- ---- ---- ---- ---- ---- ---- ---- ---- ----\n",
        "\n",
        "\n",
        "if __name__ == \"__main__\":\n",
        "    main ()\n"
      ],
      "metadata": {
        "colab": {
          "base_uri": "https://localhost:8080/",
          "height": 351
        },
        "id": "Eb75AoIKI8w1",
        "outputId": "132a4741-c634-4b4c-9543-6fd5ba856701"
      },
      "execution_count": 18,
      "outputs": [
        {
          "output_type": "error",
          "ename": "FileNotFoundError",
          "evalue": "ignored",
          "traceback": [
            "\u001b[0;31m---------------------------------------------------------------------------\u001b[0m",
            "\u001b[0;31mFileNotFoundError\u001b[0m                         Traceback (most recent call last)",
            "\u001b[0;32m<ipython-input-18-f6ebaba31502>\u001b[0m in \u001b[0;36m<cell line: 51>\u001b[0;34m()\u001b[0m\n\u001b[1;32m     50\u001b[0m \u001b[0;34m\u001b[0m\u001b[0m\n\u001b[1;32m     51\u001b[0m \u001b[0;32mif\u001b[0m \u001b[0m__name__\u001b[0m \u001b[0;34m==\u001b[0m \u001b[0;34m\"__main__\"\u001b[0m\u001b[0;34m:\u001b[0m\u001b[0;34m\u001b[0m\u001b[0;34m\u001b[0m\u001b[0m\n\u001b[0;32m---> 52\u001b[0;31m     \u001b[0mmain\u001b[0m \u001b[0;34m(\u001b[0m\u001b[0;34m)\u001b[0m\u001b[0;34m\u001b[0m\u001b[0;34m\u001b[0m\u001b[0m\n\u001b[0m",
            "\u001b[0;32m<ipython-input-18-f6ebaba31502>\u001b[0m in \u001b[0;36mmain\u001b[0;34m()\u001b[0m\n\u001b[1;32m     26\u001b[0m     \u001b[0mN_max\u001b[0m\u001b[0;34m=\u001b[0m\u001b[0;36m100\u001b[0m\u001b[0;34m\u001b[0m\u001b[0;34m\u001b[0m\u001b[0m\n\u001b[1;32m     27\u001b[0m     \u001b[0;31m# read the file\u001b[0m\u001b[0;34m\u001b[0m\u001b[0;34m\u001b[0m\u001b[0m\n\u001b[0;32m---> 28\u001b[0;31m     \u001b[0;32mwith\u001b[0m \u001b[0mopen\u001b[0m\u001b[0;34m(\u001b[0m\u001b[0msys\u001b[0m\u001b[0;34m.\u001b[0m\u001b[0margv\u001b[0m\u001b[0;34m[\u001b[0m\u001b[0;36m1\u001b[0m\u001b[0;34m]\u001b[0m\u001b[0;34m)\u001b[0m \u001b[0;32mas\u001b[0m \u001b[0mf\u001b[0m\u001b[0;34m:\u001b[0m \u001b[0;31m#sys.arg[1] è l'array-file txt (puoi usare anche load.txt..)\u001b[0m\u001b[0;34m\u001b[0m\u001b[0;34m\u001b[0m\u001b[0m\n\u001b[0m\u001b[1;32m     29\u001b[0m         \u001b[0msample\u001b[0m \u001b[0;34m=\u001b[0m \u001b[0;34m[\u001b[0m\u001b[0mfloat\u001b[0m \u001b[0;34m(\u001b[0m\u001b[0mx\u001b[0m\u001b[0;34m)\u001b[0m \u001b[0;32mfor\u001b[0m \u001b[0mx\u001b[0m \u001b[0;32min\u001b[0m \u001b[0mf\u001b[0m\u001b[0;34m.\u001b[0m\u001b[0mreadlines\u001b[0m\u001b[0;34m(\u001b[0m\u001b[0;34m)\u001b[0m\u001b[0;34m]\u001b[0m\u001b[0;34m\u001b[0m\u001b[0;34m\u001b[0m\u001b[0m\n\u001b[1;32m     30\u001b[0m \u001b[0;34m\u001b[0m\u001b[0m\n",
            "\u001b[0;31mFileNotFoundError\u001b[0m: [Errno 2] No such file or directory: '-f'"
          ]
        }
      ]
    },
    {
      "cell_type": "markdown",
      "source": [
        "#Esercizio 4"
      ],
      "metadata": {
        "id": "zDoFZWE9Fn2z"
      }
    },
    {
      "cell_type": "code",
      "source": [
        "#Display the distributions of events from the two files of the previous exercises, overlaid,\n",
        "#finding the best visualization for the comparison between the two histograms.\n",
        "#Display the distributions of events from the two files of the previous exercises, overlaid,\n",
        "#finding the best visualization for the comparison between the two histograms.\n",
        "\n",
        "import numpy as np\n",
        "import matplotlib.pyplot as plt\n",
        "from math import ceil\n",
        "\n",
        "def sturges (N_events) :\n",
        "    return ceil (1 + 3.322 * np.log (N_events))\n",
        "\n",
        "#def main():\n",
        "\n",
        "data1 = np.genfromtxt('sample_data/eventi_unif.txt')\n",
        "data2 = np.genfromtxt('sample_data/eventi_gauss.txt')\n",
        "\n",
        "N_bins=int(max(len(data1),len(data2))/10) #andrebbero messi il val min e max e poi creato un vett equispaziato!\n",
        "\n",
        "N_bins_optimized=sturges(len(data1)) #len(data1) da il numero di eventi. (avrei potuto mettere anche len(data2), è lo stesso in questo caso.\n",
        "\n",
        "fig, axes = plt.subplots(2,2)\n",
        "\n",
        "axes[0,0].hist(data1,\n",
        "              bins=N_bins,\n",
        "              label='eventi unif',\n",
        "              color='blue'\n",
        "              )\n",
        "axes[0,0].set_ylim([0,40]) #cosi rendo confrontabili i grafici: il range prima andava da 0 a 20\n",
        "\n",
        "axes[0,1].hist(data2,\n",
        "              bins=N_bins,\n",
        "              label='eventi gauss',\n",
        "              color='blue'\n",
        "              )\n",
        "\n",
        "\n",
        "axes[1,0].hist(data1,\n",
        "              bins=N_bins_optimized,\n",
        "              color='hotpink'\n",
        "              )\n",
        "axes[1,0].set_ylim([0,800])\n",
        "\n",
        "\n",
        "axes[1,1].hist(data2,\n",
        "              bins=N_bins_optimized,\n",
        "              label='eventi gauss',\n",
        "              color='hotpink'\n",
        "              )\n",
        "\n",
        "\n",
        "plt.show()\n",
        "\n"
      ],
      "metadata": {
        "colab": {
          "base_uri": "https://localhost:8080/",
          "height": 435
        },
        "id": "xLhtfpHqFqDD",
        "outputId": "d99aae85-da37-43ee-ef90-3de49bacc58f"
      },
      "execution_count": 25,
      "outputs": [
        {
          "output_type": "display_data",
          "data": {
            "text/plain": [
              "<Figure size 640x480 with 4 Axes>"
            ],
            "image/png": "[encoded data removed]"
          },
          "metadata": {}
        }
      ]
    },
    {
      "cell_type": "markdown",
      "source": [
        "#soluzione esercizio 4:\n",
        "**IMPORTANTE**: *riguardare il binning per i due campioni*"
      ],
      "metadata": {
        "id": "LMtk2DHFgGRw"
      }
    },
    {
      "cell_type": "code",
      "source": [
        "#!/usr/bin/python\n",
        "'''\n",
        "## Exercise 3.4\n",
        "  * Display the distributions of events from the two files of the previous exercises, overlaid,\n",
        "    finding the best visualization for the comparison between the two histograms.\n",
        "'''\n",
        "\n",
        "#import sys\n",
        "import matplotlib.pyplot as plt\n",
        "import numpy as np\n",
        "from math import ceil, floor\n",
        "\n",
        "\n",
        "def sturges (N_events) :\n",
        "    return ceil (1 + 3.322 * np.log (N_events))\n",
        "\n",
        "\n",
        "# ---- ---- ---- ---- ---- ---- ---- ---- ---- ---- ---- ---- ----\n",
        "\n",
        "\n",
        "def main () :\n",
        "    '''\n",
        "    Funzione che implementa il programma principale\n",
        "    '''\n",
        "\n",
        "    #if (len (sys.argv) < 3) :\n",
        "        #print ('usage:', sys.argv[0], 'inputfile1.txt inputfile2.txt')\n",
        "        #sys.exit ()\n",
        "\n",
        "    # read the files\n",
        "    #with open(sys.argv[1]) as f:\n",
        "        #sample_1 = [float (x) for x in f.readlines()]\n",
        "    #with open(sys.argv[2]) as f:\n",
        "        #sample_2 = [float (x) for x in f.readlines()]\n",
        "    sample_1 = np.genfromtxt('sample_data/eventi_unif.txt')\n",
        "    sample_2= np.genfromtxt('sample_data/eventi_gauss.txt')\n",
        "\n",
        "\n",
        "\n",
        "    xMin = floor (min (min (sample_1), min (sample_2))) #ci serviranno per creare un binning omogeneo per tutti i campioni\n",
        "    xMax = ceil (max (max (sample_1), max (sample_2)))\n",
        "    N_bins = sturges (min (len (sample_1), len (sample_2)))\n",
        "\n",
        "    bin_edges = np.linspace (xMin, xMax, N_bins) #è un vettore equispaziato (noi invece avevamo messo un numero direttamente)\n",
        "\n",
        "    fig, ax = plt.subplots (nrows = 1, ncols = 1)\n",
        "    ax.hist (sample_1,\n",
        "             bins = bin_edges,\n",
        "             color = 'orange',\n",
        "            )\n",
        "    #ax.hist (sample_2,\n",
        "            # bins = bin_edges,\n",
        "            # color = 'red',\n",
        "            # alpha = 0.5,\n",
        "            # )\n",
        "    ax.hist (sample_2,\n",
        "             bins = bin_edges,\n",
        "             color = 'red',\n",
        "             histtype='step',\n",
        "            )\n",
        "    ax.set_title ('Histogram example', size=14)\n",
        "    ax.set_xlabel ('variable')\n",
        "    ax.set_ylabel ('event counts per bin')\n",
        "\n",
        "    plt.savefig ('ex_3.4.png')\n",
        "\n",
        "\n",
        "# ---- ---- ---- ---- ---- ---- ---- ---- ---- ---- ---- ---- ----\n",
        "\n",
        "\n",
        "if __name__ == \"__main__\":\n",
        "    main ()\n"
      ],
      "metadata": {
        "colab": {
          "base_uri": "https://localhost:8080/",
          "height": 473
        },
        "id": "F7Fuz5k3g3qT",
        "outputId": "dff77425-a48d-4902-b760-98804a2dc83d"
      },
      "execution_count": 29,
      "outputs": [
        {
          "output_type": "display_data",
          "data": {
            "text/plain": [
              "<Figure size 640x480 with 1 Axes>"
            ],
            "image/png": "[encoded data removed]"
          },
          "metadata": {}
        }
      ]
    },
    {
      "cell_type": "markdown",
      "source": [
        "#ESercizio 5:"
      ],
      "metadata": {
        "id": "zr9NvG79OPSn"
      }
    },
    {
      "cell_type": "code",
      "source": [
        "#es.5\n",
        "#Read the text file eventi_unif.txt:\n",
        "#Calculate the mean of the numbers in the text file.\n",
        "# Calculate the variance of the numbers in the text file.\n",
        "# Calculate the standard deviation of the numbers in the text file.\n",
        "# Calculate the standard deviation from the mean of the numbers in the text file.\n",
        "\n",
        "\n",
        "import numpy as np\n",
        "import matplotlib.pyplot as plt\n",
        "\n",
        "\n",
        "def mean(x):\n",
        "\n",
        "    m = np.sum(x)/len(x)\n",
        "    return m\n",
        "\n",
        "def variance (sample, bessel = True) :\n",
        "    '''\n",
        "    calculates the variance of the sample present in the object\n",
        "    '''\n",
        "    summ = 0.\n",
        "    sum_sq = 0.\n",
        "    N = len (sample)\n",
        "    for elem in sample :\n",
        "       summ += elem\n",
        "       sum_sq += elem * elem\n",
        "    var = sum_sq / N - summ * summ / (N * N)\n",
        "    if bessel : var = N * var / (N - 1)\n",
        "    return var\n",
        "\n",
        "def stdev(x,bessel=True):\n",
        "\n",
        "    m = mean(x)\n",
        "    r = x-m\n",
        "    s = np.sqrt( np.sum(r*r)/(len(x)-1) ) if bessel else np.sqrt( np.sum(r*r)/len(x) )\n",
        "    return s\n",
        "\n",
        "def stdev_mean(x,bessel=True):\n",
        "\n",
        "    s = stdev(x,bessel)\n",
        "    return s/np.sqrt(len(x))\n",
        "\n",
        "\n",
        "\n",
        "\n",
        "data = np.loadtxt('sample_data/eventi_unif.txt')\n",
        "\n",
        "print(\"la media del campione vale: \", mean(data))\n",
        "print(\"la varianza del campione vale: \", variance(data))\n",
        "print(\"la dev std del campione vale: \", stdev(data))\n",
        "print(\"la dev std della media del campione vale: \", stdev_mean(data))"
      ],
      "metadata": {
        "id": "yJifTzJvORNp",
        "colab": {
          "base_uri": "https://localhost:8080/"
        },
        "outputId": "b99fd7cf-950e-4b57-b61b-a853de636a0b"
      },
      "execution_count": 47,
      "outputs": [
        {
          "output_type": "stream",
          "name": "stdout",
          "text": [
            "la media del campione vale:  1.5082904156312\n",
            "la varianza del campione vale:  10.098666207001157\n",
            "la dev std del campione vale:  3.1778398649084103\n",
            "la dev std della media del campione vale:  0.031778398649084105\n"
          ]
        }
      ]
    },
    {
      "cell_type": "markdown",
      "source": [
        "#Soluzione es5:\n"
      ],
      "metadata": {
        "id": "qlFVahxxlsNW"
      }
    },
    {
      "cell_type": "code",
      "source": [
        "#!/usr/bin/python\n",
        "'''\n",
        "## Exercise 3.5\n",
        "Read the text file [```eventi_unif.txt```](https://raw.githubusercontent.com/UnimibFisicaLaboratori/UnimibFisicaLab2/master/Lezione_03/programmi/eventi_unif.txt):\n",
        "  * Calculate the mean of the numbers in the text file.\n",
        "  * Calculate the variance of the numbers in the text file.\n",
        "  * Calculate the standard deviation of the numbers in the text file.\n",
        "  * Calculate the standard deviation from the mean of the numbers in the text file.\n",
        "'''\n",
        "\n",
        "import sys\n",
        "from stats import mean, variance, sigma, sigma_mean #QUI NO MA SULLA VM FUNZIONA\n",
        "\n",
        "def main () :\n",
        "    '''\n",
        "    Funzione che implementa il programma principale\n",
        "    '''\n",
        "\n",
        "    if (len (sys.argv) < 2) :\n",
        "        print ('usage:', sys.argv[0], 'inputfile.txt')\n",
        "        sy()\n",
        "       #se non metti un parametro ti dice di inserire proprio il nome del filetxt che ci serve.\n",
        "       #da terminale digitare     : python3 es3_5.py Downloads/eventi_gauss.txt\n",
        "       #(se sono sulla macchina virtuale linux e ho salvato la libreria stats.)\n",
        "\n",
        "    # read the file\n",
        "    with open(sys.argv[1]) as f:\n",
        "        sample = [float (x) for x in f.readlines()]\n",
        "\n",
        "    for elem in sample[:10]:\n",
        "        print (elem)\n",
        "\n",
        "    print ('total number of events:', len (sample))\n",
        "    print ('sample minimum:', min (sample))\n",
        "    print ('sample maximum:', max (sample))\n",
        "    print ('sample mean:', mean (sample))\n",
        "    print ('sample variance:', variance (sample))\n",
        "    print ('sample sigma:', sigma (sample))\n",
        "    print ('sample sigma of the mean:', sigma_mean (sample))\n",
        "\n",
        "\n",
        "# ---- ---- ---- ---- ---- ---- ---- ---- ---- ---- ---- ---- ----\n",
        "\n",
        "\n",
        "if __name__ == \"__main__\":\n",
        "    main ()\n"
      ],
      "metadata": {
        "colab": {
          "base_uri": "https://localhost:8080/",
          "height": 386
        },
        "id": "ujMM2kkiluOu",
        "outputId": "4b0a240c-b45f-49c5-d3ac-3124e0da9942"
      },
      "execution_count": 49,
      "outputs": [
        {
          "output_type": "error",
          "ename": "ModuleNotFoundError",
          "evalue": "ignored",
          "traceback": [
            "\u001b[0;31m---------------------------------------------------------------------------\u001b[0m",
            "\u001b[0;31mModuleNotFoundError\u001b[0m                       Traceback (most recent call last)",
            "\u001b[0;32m<ipython-input-49-cd3f06935941>\u001b[0m in \u001b[0;36m<cell line: 12>\u001b[0;34m()\u001b[0m\n\u001b[1;32m     10\u001b[0m \u001b[0;34m\u001b[0m\u001b[0m\n\u001b[1;32m     11\u001b[0m \u001b[0;32mimport\u001b[0m \u001b[0msys\u001b[0m\u001b[0;34m\u001b[0m\u001b[0;34m\u001b[0m\u001b[0m\n\u001b[0;32m---> 12\u001b[0;31m \u001b[0;32mfrom\u001b[0m \u001b[0mstats\u001b[0m \u001b[0;32mimport\u001b[0m \u001b[0mmean\u001b[0m\u001b[0;34m,\u001b[0m \u001b[0mvariance\u001b[0m\u001b[0;34m,\u001b[0m \u001b[0msigma\u001b[0m\u001b[0;34m,\u001b[0m \u001b[0msigma_mean\u001b[0m\u001b[0;34m\u001b[0m\u001b[0;34m\u001b[0m\u001b[0m\n\u001b[0m\u001b[1;32m     13\u001b[0m \u001b[0;34m\u001b[0m\u001b[0m\n\u001b[1;32m     14\u001b[0m \u001b[0;32mdef\u001b[0m \u001b[0mmain\u001b[0m \u001b[0;34m(\u001b[0m\u001b[0;34m)\u001b[0m \u001b[0;34m:\u001b[0m\u001b[0;34m\u001b[0m\u001b[0;34m\u001b[0m\u001b[0m\n",
            "\u001b[0;31mModuleNotFoundError\u001b[0m: No module named 'stats'",
            "",
            "\u001b[0;31m---------------------------------------------------------------------------\u001b[0;32m\nNOTE: If your import is failing due to a missing package, you can\nmanually install dependencies using either !pip or !apt.\n\nTo view examples of installing some common dependencies, click the\n\"Open Examples\" button below.\n\u001b[0;31m---------------------------------------------------------------------------\u001b[0m\n"
          ],
          "errorDetails": {
            "actions": [
              {
                "action": "open_url",
                "actionText": "Open Examples",
                "url": "/notebooks/snippets/importing_libraries.ipynb"
              }
            ]
          }
        }
      ]
    },
    {
      "cell_type": "markdown",
      "source": [
        "#esercizio6:\n",
        "##*LA SOLUZIONE È STATA SALVATA COME LIBRERIA IN UNA CARTELLA APPOSTA SULLA MV, guardare come è implementato con    la classe il tutto.*"
      ],
      "metadata": {
        "id": "ubvyG61smyMv"
      }
    },
    {
      "cell_type": "code",
      "source": [
        "#Write a python library which, given the name of a text file containing a sample of events as input,\n",
        "#is able to read the sample and save it in a numpy array, then calculate its mean, variance, standard deviation,\n",
        "#standard deviation from the mean, display the sample  in a histogram\n",
        "#with an appropriately chosen definition range and bin number. Write a test program for the created library.\n",
        "#Write a python library which, given the name of a text file containing a sample of events as input,\n",
        "#is able to read the sample and save it in a numpy array, then calculate its mean, variance, standard deviation,\n",
        "#standard deviation from the mean, display the sample  in a histogram\n",
        "#with an appropriately chosen definition range and bin number. Write a test program for the created library.\n",
        "\n",
        "from stats import mean, variance,sigma,sigma_mean\n",
        "from math import ceil, floor\n",
        "import numpy as np\n",
        "import matplotlib.pyplot as plt\n",
        "import sys\n",
        "\n",
        "if(len(sys.argv)<3):\n",
        " print ('usage:', sys.argv[0], '--> inputfile.txt and N_bin')\n",
        " sys.exit()\n",
        "\n",
        "sample=np.loadtxt(sys.argv[1]) #rispettivamente il secondo e il terzo parametro (il titolo è il primo)\n",
        "N_bin=int(sys.argv[2])\n",
        "\n",
        "\n",
        "\n",
        "print ('sample mean:', mean (sample))\n",
        "print ('sample variance:', variance (sample))\n",
        "print ('sample sigma:', sigma (sample))\n",
        "print ('sample sigma of the mean:', sigma_mean (sample))\n",
        "\n",
        "#binning:\n",
        "\n",
        "xmax=floor(max(sample)) #floor e ceil è come se facessi un cast su un int ma approx agliestremi\n",
        "xmin=ceil(min(sample))\n",
        "bin_edge=np.linspace(xmin,xmax,N_bin)\n",
        "\n",
        "\n",
        "#plottiamo in un istogramma:\n",
        "\n",
        "fig, ax = plt.subplots(1,1)\n",
        "ax.hist(sample,\n",
        "        color='blue'\n",
        "        )\n",
        "\n",
        "plt.show()\n",
        "plt.save(\"figure3_6.png\")\n",
        "\n",
        "\n",
        "\n",
        "\n",
        "\n"
      ],
      "metadata": {
        "id": "5jtuUlSCm1il"
      },
      "execution_count": null,
      "outputs": []
    },
    {
      "cell_type": "markdown",
      "source": [
        "#esercizio 7: distribuzione gaussiana e sua **funzione comulativa**"
      ],
      "metadata": {
        "id": "73eWFYVhJ1P7"
      }
    },
    {
      "cell_type": "code",
      "source": [
        "#!/usr/bin/python\n",
        "'''\n",
        "Write a Python program to draw a Gaussian distribution and its cumulative function\n",
        "'''\n",
        "\n",
        "import matplotlib.pyplot as plt\n",
        "from scipy.stats import norm\n",
        "import numpy as np\n",
        "\n",
        "def main () :\n",
        "    '''\n",
        "    Funzione che implementa il programma principale\n",
        "    '''\n",
        "    #fig, ax = plt.subplots(1,2)\n",
        "    normal = norm (100., 10.) #CAMBIANDO I DUE VALORI CAMBIA LA FORMA DELLA GAUSSIANA\n",
        "    #?norm\n",
        "    x_axis = np.linspace (50., 150., 100) #input sulle x\n",
        "    plt.plot(x_axis, normal.pdf (x_axis), label=\"PDF\")\n",
        "    #plt.plot (x_axis, normal.pdf (x_axis), label=\"PDF\") #funzione diiistribuzione normale\n",
        "    plt.legend ()\n",
        "    plt.savefig ('ex_3.7_pdf.png')\n",
        "    plt.show()\n",
        "\n",
        "    plt.clf () # clear the figure\n",
        "\n",
        "    plt.plot (x_axis, normal.cdf (x_axis), color=\"red\",label=\"CDF\")\n",
        "    plt.legend ()\n",
        "    plt.savefig ('ex_3.7_cdf.png')\n",
        "\n",
        "# ---- ---- ---- ---- ---- ---- ---- ---- ---- ---- ---- ---- ----\n",
        "\n",
        "\n",
        "if __name__ == \"__main__\":\n",
        "    main ()\n"
      ],
      "metadata": {
        "id": "ZbAp-KnqJ3ap",
        "outputId": "84b6aefe-921f-40a3-b5e1-535901285126",
        "colab": {
          "base_uri": "https://localhost:8080/",
          "height": 843
        }
      },
      "execution_count": 73,
      "outputs": [
        {
          "output_type": "display_data",
          "data": {
            "text/plain": [
              "<Figure size 640x480 with 1 Axes>"
            ],
            "image/png": "[encoded data removed]"
          },
          "metadata": {}
        },
        {
          "output_type": "display_data",
          "data": {
            "text/plain": [
              "<Figure size 640x480 with 1 Axes>"
            ],
            "image/png": "[encoded data removed]"
          },
          "metadata": {}
        }
      ]
    },
    {
      "cell_type": "markdown",
      "source": [
        "#ESERCIZIO 8:\n",
        "##calcolo dell'area delle code della distr normale al variare di $σ$"
      ],
      "metadata": {
        "id": "HIgrMNfgM71H"
      }
    },
    {
      "cell_type": "code",
      "source": [
        "#!/usr/bin/python\n",
        "'''\n",
        "Use the Python `scipy.stat.norm` object to determine the area of a normal distribution\n",
        "of its tails outside the range included within an interval of 1, 2, 3, 4, and 5\n",
        "standard deviations around its mean\n",
        "'''\n",
        "\n",
        "import matplotlib.pyplot as plt\n",
        "from scipy.stats import norm\n",
        "import numpy as np\n",
        "\n",
        "def main () :\n",
        "    '''\n",
        "    Funzione che implementa il programma principale\n",
        "    '''\n",
        "    normal = norm (0., 1.)\n",
        "    for sigmas in range (1,6) :\n",
        "        tails_area = normal.cdf (0.- sigmas) + 1. - normal.cdf (0.+ sigmas)\n",
        "        print ('outside ' + str (sigmas) + ' sigmas :\\t'\n",
        "               + str (tails_area))\n",
        "\n",
        "#Al crescere delle sigma diminuisce l'area\n",
        "\n",
        "#?norm.cdf\n",
        "\n",
        "# ---- ---- ---- ---- ---- ---- ---- ---- ---- ---- ---- ---- ----\n",
        "\n",
        "\n",
        "if __name__ == \"__main__\":\n",
        "    main ()\n"
      ],
      "metadata": {
        "id": "bscON0SfNBn9",
        "outputId": "6e5a73fb-ff81-44ab-e961-ecfb7625cd2d",
        "colab": {
          "base_uri": "https://localhost:8080/"
        }
      },
      "execution_count": 81,
      "outputs": [
        {
          "output_type": "stream",
          "name": "stdout",
          "text": [
            "outside 1 sigmas :\t0.31731050786291426\n",
            "outside 2 sigmas :\t0.045500263896358306\n",
            "outside 3 sigmas :\t0.002699796063260096\n",
            "outside 4 sigmas :\t6.334248366623996e-05\n",
            "outside 5 sigmas :\t5.733031437360481e-07\n"
          ]
        }
      ]
    }
  ],
  "metadata": {
    "kernelspec": {
      "display_name": "Python 3 (ipykernel)",
      "language": "python",
      "name": "python3"
    },
    "language_info": {
      "codemirror_mode": {
        "name": "ipython",
        "version": 3
      },
      "file_extension": ".py",
      "mimetype": "text/x-python",
      "name": "python",
      "nbconvert_exporter": "python",
      "pygments_lexer": "ipython3",
      "version": "3.8.10"
    },
    "colab": {
      "provenance": []
    }
  },
  "nbformat": 4,
  "nbformat_minor": 0
}